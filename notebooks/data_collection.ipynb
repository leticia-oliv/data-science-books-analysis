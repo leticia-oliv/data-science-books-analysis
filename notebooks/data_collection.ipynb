{
 "cells": [
  {
   "cell_type": "code",
   "execution_count": 65,
   "metadata": {},
   "outputs": [],
   "source": [
    "import bs4\n",
    "from bs4 import BeautifulSoup\n",
    "import sys\n",
    "import time\n",
    "sys.path.insert(0,'/usr/lib/chromium-browser/chromedriver')\n",
    "from selenium import webdriver\n",
    "from selenium.webdriver.support.ui import WebDriverWait\n",
    "from lxml.html.soupparser import fromstring\n",
    "from selenium.webdriver.support import expected_conditions as EC"
   ]
  },
  {
   "cell_type": "code",
   "execution_count": 66,
   "metadata": {},
   "outputs": [],
   "source": [
    "url = 'https://www.amazon.com.br/s?k=ciencia+de+dados&i=stripbooks&crid=NTDHNTJYUKF4&sprefix=%2Cstripbooks%2C921&ref=nb_sb_ss_recent_2_0_recent'"
   ]
  },
  {
   "cell_type": "code",
   "execution_count": null,
   "metadata": {},
   "outputs": [],
   "source": [
    "chrome_options = webdriver.ChromeOptions()\n",
    "chrome_options.add_argument('--headless')\n",
    "chrome_options.add_argument('--no-sandbox')\n",
    "chrome_options.add_argument('--disable-dev-shm-usage')\n",
    "\n",
    "browser = webdriver.Chrome(options=chrome_options)\n",
    "browser.get(url)\n",
    "soup = BeautifulSoup(browser.page_source, \"html.parser\")\n",
    "print(soup)"
   ]
  },
  {
   "cell_type": "code",
   "execution_count": 68,
   "metadata": {},
   "outputs": [
    {
     "data": {
      "text/plain": [
       "20"
      ]
     },
     "execution_count": 68,
     "metadata": {},
     "output_type": "execute_result"
    }
   ],
   "source": [
    "_resultadosdaBusca = \"div[data-cy='title-recipe']\"\n",
    "job_elems = soup.select(_resultadosdaBusca)\n",
    "len(job_elems)"
   ]
  },
  {
   "cell_type": "code",
   "execution_count": 77,
   "metadata": {},
   "outputs": [
    {
     "name": "stdout",
     "output_type": "stream",
     "text": [
      "Resultados\n"
     ]
    }
   ],
   "source": [
    "_titulo = 'h2'\n",
    "\n",
    "x = job_elems[0]\n",
    "\n",
    "t = x.select(_titulo)[0]\n",
    "titulo = t.get_text()\n",
    "print(titulo)"
   ]
  },
  {
   "cell_type": "code",
   "execution_count": 70,
   "metadata": {},
   "outputs": [
    {
     "name": "stdout",
     "output_type": "stream",
     "text": [
      "Título: Storytelling com Dados: um Guia Sobre Visualização de Dados Para Profissionais de Negócios\n",
      "Preço principal: R$ 77,33\n",
      "Preço digital sugerido: R$ 77,33\n",
      "Título: Data Science do Zero - 2º Edição: Noções Fundamentais com Python\n",
      "Preço principal: R$ 75,00\n",
      "Preço digital sugerido: R$ 75,00\n",
      "Título: Ciência de Dados - Fundamentos e Aplicações\n",
      "Preço principal: R$ 88,80\n",
      "Preço digital sugerido: R$ 88,80\n",
      "Título: Manual de Análise de Dados: Estatística e Machine Learning com Excel®, SPSS®, Stata®, R® e Python®\n",
      "Preço principal: R$ 409,70\n",
      "Preço digital sugerido: R$ 409,70\n",
      "Título: Estatística e Ciência de Dados\n",
      "Preço principal: R$ 177,84\n",
      "Preço digital sugerido: R$ 177,84\n",
      "Título: Projetos de Ciência de Dados com Python: Abordagem de Estudo de Caso Para a Criação de Projetos de Ciência de Dados Bem-sucedidos Usando Python, Pandas e Scikit-learn\n",
      "Preço principal: R$ 77,51\n",
      "Preço digital sugerido: R$ 77,51\n",
      "Título: Estatística Prática Para Cientistas de Dados: 50 Conceitos Essenciais\n",
      "Preço principal: R$ 82,14\n",
      "Preço digital sugerido: R$ 82,14\n",
      "Título: Data Science Para Negócios\n",
      "Preço principal: R$ 78,99\n",
      "Preço digital sugerido: R$ 78,99\n",
      "Título: Storytelling com Dados: um Guia Sobre Visualização de Dados Para Profissionais de Negócios\n",
      "Preço principal: R$ 77,33\n",
      "Preço digital sugerido: R$ 77,33\n",
      "Título: Menos Achismo, Mais Dados: Um guia prático de como transformar dados em decisão\n",
      "Preço principal: R$ 34,95\n",
      "Preço digital sugerido: R$ 34,95\n",
      "Título: O andar do bêbado: Como o acaso determina nossas vidas\n",
      "Preço principal: R$ 39,12\n",
      "Preço digital sugerido: R$ 39,12\n",
      "Título: Pálido ponto azul (Nova edição): Uma visão do futuro da humanidade no espaço\n",
      "Preço principal: R$ 55,74\n",
      "Preço digital sugerido: R$ 55,74\n",
      "Título: Python Para Análise de Dados: Tratamento de Dados com Pandas, NumPy & Jupyter\n",
      "Preço principal: R$ 141,91\n",
      "Preço digital sugerido: R$ 141,91\n",
      "Título: Python Para Ciência de Dados: uma Introdução Prática\n",
      "Preço principal: R$ 56,29\n",
      "Preço digital sugerido: R$ 56,29\n",
      "Título: R Para Data Science\n",
      "Preço principal: R$ 102,75\n",
      "Preço digital sugerido: R$ 102,75\n",
      "Título: Python e R Para o Cientista de Dados Moderno: o Melhor de Dois Mundos\n",
      "Preço principal: R$ 59,00\n",
      "Preço digital sugerido: R$ 59,00\n",
      "Título: Análise Prática de Séries Temporais: Predição com Estatística e Aprendizado de Máquina\n",
      "Preço principal: R$ 81,50\n",
      "Preço digital sugerido: R$ 81,50\n",
      "Título: Python Para Data Science: e Machine Learning Descomplicado\n",
      "Preço principal: R$ 76,64\n",
      "Preço digital sugerido: R$ 76,64\n",
      "Título: Inteligência Artificial, Análise e Ciência de Dados (Volume 1)\n",
      "Preço principal: R$ 122,99\n",
      "Preço digital sugerido: R$ 122,99\n",
      "Título: Cosmos\n",
      "Preço principal: R$ 52,25\n",
      "Preço digital sugerido: R$ 52,25\n"
     ]
    }
   ],
   "source": [
    "# Seletor para os resultados da busca\n",
    "_resultadosdaBusca = \"div.s-main-slot div.s-result-item\"\n",
    "job_elems = soup.select(_resultadosdaBusca)\n",
    "\n",
    "for elem in job_elems:\n",
    "    # Seletor para o título\n",
    "    _titulo = 'h2 a span'\n",
    "    title_elem = elem.select_one(_titulo)\n",
    "    if title_elem:\n",
    "        titulo = title_elem.get_text()\n",
    "        print(f'Título: {titulo}')\n",
    "    \n",
    "    # Seletor para o preço principal\n",
    "    _preco = 'span.a-price span.a-offscreen'\n",
    "    price_elem = elem.select_one(_preco)\n",
    "    if price_elem:\n",
    "        preco = price_elem.get_text()\n",
    "        print(f'Preço principal: {preco}')\n",
    "    \n",
    "    # Seletor para o preço digital sugerido\n",
    "    _preco_sugerido = 'span.a-price span.a-offscreen'\n",
    "    price_sugerido_elem = elem.select_one(_preco_sugerido)\n",
    "    if price_sugerido_elem:\n",
    "        preco_sugerido = price_sugerido_elem.get_text()\n",
    "        print(f'Preço digital sugerido: {preco_sugerido}')"
   ]
  },
  {
   "cell_type": "code",
   "execution_count": 71,
   "metadata": {},
   "outputs": [
    {
     "name": "stdout",
     "output_type": "stream",
     "text": [
      "Obra:Cosmos\n",
      "Preço:None\n"
     ]
    }
   ],
   "source": [
    "_precos =  x.select('span[class=\"a-price\"]')\n",
    "\n",
    "valorPreco = None\n",
    "\n",
    "for _preco in _precos:\n",
    "  valorPrecoAtual = float(_preco.get_text().replace('R$','').replace(',','.'))\n",
    "  if valorPreco == None:\n",
    "    valorPreco = valorPrecoAtual\n",
    "  else:\n",
    "    if valorPrecoAtual < valorPreco:\n",
    "      valorPreco = valorPrecoAtual\n",
    "\n",
    "preco = str(valorPreco)\n",
    "print('Obra:'+titulo)\n",
    "print('Preço:'+preco)"
   ]
  }
 ],
 "metadata": {
  "kernelspec": {
   "display_name": "venv",
   "language": "python",
   "name": "python3"
  },
  "language_info": {
   "codemirror_mode": {
    "name": "ipython",
    "version": 3
   },
   "file_extension": ".py",
   "mimetype": "text/x-python",
   "name": "python",
   "nbconvert_exporter": "python",
   "pygments_lexer": "ipython3",
   "version": "3.12.4"
  }
 },
 "nbformat": 4,
 "nbformat_minor": 2
}
