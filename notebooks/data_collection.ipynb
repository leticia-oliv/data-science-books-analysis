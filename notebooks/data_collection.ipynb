{
 "cells": [
  {
   "cell_type": "code",
   "execution_count": 22,
   "metadata": {},
   "outputs": [],
   "source": [
    "import bs4\n",
    "from bs4 import BeautifulSoup\n",
    "import sys\n",
    "sys.path.insert(0,'/usr/lib/chromium-browser/chromedriver')\n",
    "from selenium import webdriver\n",
    "from selenium.webdriver.support.ui import WebDriverWait\n",
    "from lxml.html.soupparser import fromstring\n",
    "from selenium.webdriver.support import expected_conditions as EC"
   ]
  },
  {
   "cell_type": "code",
   "execution_count": null,
   "metadata": {},
   "outputs": [],
   "source": [
    "url = 'https://www.amazon.com.br/s?k=ciencia+de+dados&i=stripbooks&crid=NTDHNTJYUKF4&sprefix=%2Cstripbooks%2C921&ref=nb_sb_ss_recent_2_0_recent'"
   ]
  },
  {
   "cell_type": "code",
   "execution_count": null,
   "metadata": {},
   "outputs": [],
   "source": [
    "chrome_options = webdriver.ChromeOptions()\n",
    "chrome_options.add_argument('--headless')\n",
    "chrome_options.add_argument('--no-sandbox')\n",
    "chrome_options.add_argument('--disable-dev-shm-usage')\n",
    "\n",
    "browser = webdriver.Chrome(options=chrome_options)\n",
    "browser.get(url)\n",
    "soup = BeautifulSoup(browser.page_source, \"html.parser\")\n",
    "print(soup)"
   ]
  },
  {
   "cell_type": "code",
   "execution_count": null,
   "metadata": {},
   "outputs": [],
   "source": [
    "_resultadosdaBusca = \"div[data-cy='title-recipe']\"\n",
    "job_elems = soup.select(_resultadosdaBusca)\n",
    "len(job_elems)"
   ]
  },
  {
   "cell_type": "code",
   "execution_count": null,
   "metadata": {},
   "outputs": [],
   "source": [
    "_titulo = 'h2'\n",
    "\n",
    "x = job_elems[0]\n",
    "\n",
    "t = x.select(_titulo)[0]\n",
    "titulo = t.get_text()\n",
    "\n",
    "_precos =  x.select('div[class=\"shelf-item__price--best-price\"]')\n",
    "\n",
    "valorPreco = None\n",
    "\n",
    "for _preco in _precos:\n",
    "  valorPrecoAtual = float(_preco.get_text().replace('R$','').replace(',','.'))\n",
    "  if valorPreco == None:\n",
    "    valorPreco = valorPrecoAtual\n",
    "  else:\n",
    "    if valorPrecoAtual < valorPreco:\n",
    "      valorPreco = valorPrecoAtual\n",
    "\n",
    "preco = str(valorPreco)\n",
    "print('Obra:'+titulo)\n",
    "print('Preço:'+preco)"
   ]
  }
 ],
 "metadata": {
  "kernelspec": {
   "display_name": "venv",
   "language": "python",
   "name": "python3"
  },
  "language_info": {
   "codemirror_mode": {
    "name": "ipython",
    "version": 3
   },
   "file_extension": ".py",
   "mimetype": "text/x-python",
   "name": "python",
   "nbconvert_exporter": "python",
   "pygments_lexer": "ipython3",
   "version": "3.12.4"
  }
 },
 "nbformat": 4,
 "nbformat_minor": 2
}
